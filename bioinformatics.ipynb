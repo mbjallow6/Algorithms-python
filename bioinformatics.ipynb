{
  "nbformat": 4,
  "nbformat_minor": 0,
  "metadata": {
    "colab": {
      "name": "bioinformatics.ipynb",
      "provenance": [],
      "authorship_tag": "ABX9TyN8C9aEmchTknjJW8F2e6wk",
      "include_colab_link": true
    },
    "kernelspec": {
      "name": "python3",
      "display_name": "Python 3"
    }
  },
  "cells": [
    {
      "cell_type": "markdown",
      "metadata": {
        "id": "view-in-github",
        "colab_type": "text"
      },
      "source": [
        "<a href=\"https://colab.research.google.com/github/mbjallow6/Algorithms-python/blob/master/bioinformatics.ipynb\" target=\"_parent\"><img src=\"https://colab.research.google.com/assets/colab-badge.svg\" alt=\"Open In Colab\"/></a>"
      ]
    },
    {
      "cell_type": "code",
      "metadata": {
        "colab": {
          "base_uri": "https://localhost:8080/",
          "height": 34
        },
        "id": "onpPOkA8Rtpr",
        "outputId": "6c620659-893f-4a60-de49-a87ccbdbe489"
      },
      "source": [
        "import random \n",
        "import collections\n",
        "# validate DNA sequence helper function\n",
        "\n",
        "Nucleotides = ['A','C','G','T']\n",
        "\n",
        "def val_DNA_Seq(dna_string):\n",
        "  seq2upper = dna_string.upper()\n",
        "  for seq in seq2upper:\n",
        "    if seq not in Nucleotides:\n",
        "      return false\n",
        "  return seq2upper\n",
        "\n",
        "\n",
        "# creating a random  DNA sequence to test the validate helper function\n",
        "\n",
        "\n",
        "rand_DNA_String = ''.join([random.choice(Nucleotides) for seg in range(10)])\n",
        "\n",
        "sample_DNA_String = val_DNA_Seq(rand_DNA_String)\n",
        "sample_DNA_String\n"
      ],
      "execution_count": 12,
      "outputs": [
        {
          "output_type": "execute_result",
          "data": {
            "application/vnd.google.colaboratory.intrinsic+json": {
              "type": "string"
            },
            "text/plain": [
              "'CCGTCAACTA'"
            ]
          },
          "metadata": {
            "tags": []
          },
          "execution_count": 12
        }
      ]
    },
    {
      "cell_type": "code",
      "metadata": {
        "id": "CQITIZZLWYyi"
      },
      "source": [
        "# counting necleotide frequencies \n",
        "\n",
        "def count_Nuc_Frequency(dna_string):\n",
        "  nuc_string_counter = {'A':0, 'C':0, 'G':0, 'T':0}\n",
        "  for seq in dna_string:\n",
        "    nuc_string_counter[seq] += 1\n",
        "  return nuc_string_counter\n"
      ],
      "execution_count": 9,
      "outputs": []
    },
    {
      "cell_type": "code",
      "metadata": {
        "id": "SWsDTePcoRFC"
      },
      "source": [
        "#  using the in built collection method\n",
        "\n",
        "def count_Nuc_Frequency_v2(dna_string):\n",
        "  return dict(collections.Counter(dna_string))"
      ],
      "execution_count": 13,
      "outputs": []
    },
    {
      "cell_type": "code",
      "metadata": {
        "colab": {
          "base_uri": "https://localhost:8080/"
        },
        "id": "vY0W0UjfUPJ6",
        "outputId": "c51763c1-ab7d-48f7-fb40-c6378b50989c"
      },
      "source": [
        "# test the function using the random generated dna sequence\n",
        "print(count_Nuc_Frequency_v2(sample_DNA_String))\n",
        "print(count_Nuc_Frequency(sample_DNA_String))"
      ],
      "execution_count": 14,
      "outputs": [
        {
          "output_type": "stream",
          "text": [
            "{'C': 4, 'G': 1, 'T': 2, 'A': 3}\n",
            "{'A': 3, 'C': 4, 'G': 1, 'T': 2}\n"
          ],
          "name": "stdout"
        }
      ]
    },
    {
      "cell_type": "code",
      "metadata": {
        "colab": {
          "base_uri": "https://localhost:8080/"
        },
        "id": "_YDFrFL4q2pn",
        "outputId": "c074fe2e-7bdc-4724-876b-0769fb6a18d8"
      },
      "source": [
        "#  rosalind challege counting nucleotide frequency\n",
        "dna_string = 'AGGGAACTTATGTAGGTGGCATTTAGACGGACCTCATAAAAAGCTTGGCCAGATACAGTGCTGAAGCGTCGCGGGTAGGTCCGGACCGTACTTTGTAATGAGCTGCGGGCCTCGGACTGCAATCGCCTTATCCCTTTGCGTGGATTACGCGGCTAGCTGCATTACTGTCGGGTACGGTCACCAGGGATACGAAGGGTAATATAAGATAGCTGAGAGCCTATTATGGAGGCAGAGCTATGATCACCGAAACATACTCTTCCATGGCTATCCAATCGATTAGGTTAGGCACTATGAGTTCTGACTAAACATGTTATTGACGTCAGTCCCAGGCGCCACCATAGCCGTGAGAGAGTTTAGCACGTTCGCTTCCAGGACTTACTTGGTCATAGCCGCTGGGAACCCGCGATATCATTCGGCCAGGCGTCCCCCACCAGAAGCCACGCAACGGGACCGAATCCTCACGGCAGGTTACTAGTTGTAGAGGCTAGCTCTTAAGAGGCAGAGCACGCAAGCGTTTCGTTTTATGCCCGATAAGCTTTTAGATGTTACAGACTAAAGAGCCCTGTTGGATGCATAGAGCACTTACTTTAAACTCATGGAAAAAAGCTTTTAATTATTGGCGTAGATATCGCGTGAAATGCCTGGTATCCGTAGGGGCTGGCCATCTTGACACCTCGAGCTGCCTACATGTGCCAGGAGATACCTGGTAATTCGTTACTCGATTCGCGACGGACCTATGTATTCACGCAGTCGACTTCGCTCCTGCACTTTGAACTAATCTGATAGGCAGAATCACTGGGTGTTATTTTCATGCGTATCGGTTACGTCCACGTCCATGTTAAAACGAAAACAGTATGCGGGCTAAGGCATTGTCGGTTACCCACCCGCTGCGTGGATC'\n",
        "\n",
        "\n",
        "nuc_counter = count_Nuc_Frequency(dna_string)\n",
        "print(' '.join([str(val) for key, val in nuc_counter.items()]))"
      ],
      "execution_count": 19,
      "outputs": [
        {
          "output_type": "stream",
          "text": [
            "222 216 232 228\n"
          ],
          "name": "stdout"
        }
      ]
    }
  ]
}