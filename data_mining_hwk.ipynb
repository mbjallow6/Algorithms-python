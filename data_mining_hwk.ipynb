{
  "nbformat": 4,
  "nbformat_minor": 0,
  "metadata": {
    "colab": {
      "name": "data_mining_hwk.ipynb",
      "provenance": [],
      "collapsed_sections": [],
      "authorship_tag": "ABX9TyNmNh9DRB1ZGy1k2XxTNJV3",
      "include_colab_link": true
    },
    "kernelspec": {
      "name": "python3",
      "display_name": "Python 3"
    }
  },
  "cells": [
    {
      "cell_type": "markdown",
      "metadata": {
        "id": "view-in-github",
        "colab_type": "text"
      },
      "source": [
        "<a href=\"https://colab.research.google.com/github/mbjallow6/Algorithms-python/blob/master/data_mining_hwk.ipynb\" target=\"_parent\"><img src=\"https://colab.research.google.com/assets/colab-badge.svg\" alt=\"Open In Colab\"/></a>"
      ]
    },
    {
      "cell_type": "code",
      "metadata": {
        "colab": {
          "base_uri": "https://localhost:8080/"
        },
        "id": "7RUbKQxKiaqk",
        "outputId": "6320d677-816a-4a7b-baac-80c47762acd9"
      },
      "source": [
        "class Question1():\n",
        "\n",
        "  '''\n",
        "  This class etails methods that anwsers the following question:\n",
        "\n",
        "  1. (20 points) Given the following dataset including the records of students exam scores. Please write a program to give out the following statistical description of data. \n",
        "  (a) Max, min\n",
        "  (b) Q1, median, Q3\n",
        "  (c) Mean, variance\n",
        "  (d) Mode\n",
        "\n",
        "  test_scores = [85,89,93,55,89,72,98,90,66,91,75,82,60,85,61,83,95,89,73,35]\n",
        "  .........................................................................\n",
        "  Attribute\n",
        "\n",
        "  test_scores : list\n",
        "  a list of values representing test scores of students\n",
        "\n",
        "\n",
        "  .................................................................................................\n",
        "  Methods\n",
        "\n",
        "  max_min(list)\n",
        "  prints the maximum and minimum values of list\n",
        "\n",
        "  med_quartile(list)\n",
        "  prints the Q1, median and Q3 values of a list\n",
        "\n",
        "  mean_variance(list)\n",
        "  prints the mean and variance of a list\n",
        "\n",
        "  mode(list)\n",
        "  prints the modal value of a list\n",
        "\n",
        "  '''\n",
        "  def __init__(self,test_scores):\n",
        "    self.test_scores= test_scores\n",
        "  \n",
        "\n",
        "  def max_min(self):\n",
        "    test_scores.sort()\n",
        "    return print('The max score is: {} and min score is: {}'.format(test_scores[-1], test_scores[0]))\n",
        "\n",
        "  def med_quartile(self):\n",
        "    test_scores.sort()\n",
        "    if len(test_scores)%2!=0:\n",
        "      mid_index = int((len(test_scores)-1)/2)\n",
        "      median_score = test_scores[mid_index]\n",
        "      lower_dis = test_scores[0:(mid_index +1)]\n",
        "      \n",
        "      upper_dis = test_scores[mid_index:]\n",
        "      lower_Q = lower_dis[int((len(lower_dis)-1)/2)]\n",
        "      upper_Q = upper_dis[int((len(upper_dis)-1)/2)]\n",
        "\n",
        "    \n",
        "    elif len(test_scores)%2 ==0:\n",
        "      mid_index1 = int(len(test_scores)/2)\n",
        "      mid_index2 = int(len(test_scores)/2)-1\n",
        "      median_score = (test_scores[mid_index1] + test_scores[mid_index2])/2\n",
        "      lower_dis = test_scores[0:mid_index1]\n",
        "      upper_dis = test_scores[mid_index1:]\n",
        "      if len(lower_dis)%2 !=0:\n",
        "        lower_Q = lower_dis[int((len(lower_dis)-1)/2)]\n",
        "        upper_Q = upper_dis[int((len(upper_dis)-1)/2)]\n",
        "      elif len(lower_dis)%2 ==0:\n",
        "        lower_mid_index1 = int(len(lower_dis)/2)\n",
        "        lower_mid_index2 = int(len(lower_dis)/2)-1\n",
        "        lower_Q = (lower_dis[lower_mid_index1] +  lower_dis[lower_mid_index2])/2\n",
        "        upper_Q = (upper_dis[lower_mid_index1] +  upper_dis[lower_mid_index2])/2\n",
        "    return print('The median score is:  {}, The Q1 is: {} and The Q2 is: {}'.format(median_score, lower_Q, upper_Q))\n",
        "\n",
        "  def mean_variance(self):\n",
        "    mean_total_scores = 0\n",
        "    variance_total_scores=0\n",
        "    for score in test_scores:\n",
        "      mean_total_scores += score\n",
        "    mean_score = mean_total_scores/len(test_scores)\n",
        "    for score in range(len(test_scores)):\n",
        "      variance_total_scores += (test_scores[score]-mean_score)**2\n",
        "    variance_score = variance_total_scores/len(test_scores)\n",
        "\n",
        "    return print('The mean score is:  {} and The variance is: {}' .format(mean_score, variance_score))\n",
        "  \n",
        "  def mode(self):\n",
        "    scores_count = (0,0)\n",
        "    for score in test_scores:\n",
        "      score_occur = test_scores.count(score)\n",
        "      if score_occur > scores_count[0]:\n",
        "        scores_count = (score_occur, score)\n",
        "    return print ('The mode score is:  {}'.format(scores_count[1]))\n",
        "\n",
        "\n",
        "test_scores = [85,89,93,55,89,72,98,90,66,91,75,82,60,85,61,83,95,89,73,35]\n",
        "ques1 =Question1(test_scores)\n",
        "print(ques1.mode())\n"
      ],
      "execution_count": 13,
      "outputs": [
        {
          "output_type": "stream",
          "text": [
            "The mode score is:  89\n",
            "None\n"
          ],
          "name": "stdout"
        }
      ]
    },
    {
      "cell_type": "code",
      "metadata": {
        "colab": {
          "base_uri": "https://localhost:8080/"
        },
        "id": "WJjQHDyjtqwv",
        "outputId": "85e9aef3-9e15-4b1b-b3c5-819548d48440"
      },
      "source": [
        "class Question2():\n",
        "\n",
        "  '''\n",
        "  2. (20 points) Given the following patient record table, which contains the attributes name, \n",
        "  test-1, test-2, test-3, test-4, test-5, test-6, test-7, test-8, \n",
        "  where name is an object identifier and the remaining attributes are asymmetric binary. \n",
        "  Please write a program to calculate the Jaccard coefficient (similarity) between each pair \n",
        "  of the three patients – Peter, Mary, and Jim.\n",
        "\n",
        "  The test results are binary (Y/N)\n",
        "\n",
        "  Attributes:\n",
        "\n",
        "  patient_x : list(set)\n",
        "  patient_y : list(set)\n",
        "\n",
        "\n",
        "\n",
        "  Method:\n",
        "\n",
        "  jaccard_similarity(patient_x,patient_y)\n",
        "\n",
        "  prints the jaccard similarity between two pairs\n",
        "\n",
        "  '''\n",
        "  def __init__(self, patient_x, patient_y):\n",
        "    self.patient_x = patient_x\n",
        "    self.patient_y = patient_y\n",
        "\n",
        "  def jaccard_similarity(self):\n",
        "    intersection_sum = len(set.intersection(*[set(self.patient_x), set(self.patient_y)]))\n",
        "    union_sum = len(set.union(*[set(self.patient_x), set(self.patient_y)]))\n",
        "    similarity = intersection_sum/float(union_sum)\n",
        "    return print('The jaccard similarity between patient_X and Patient_Y is:  {}'.format(similarity))\n",
        "\n",
        "peter = [1,2,5,8]\n",
        "mary = [2,5,7,8]\n",
        "jim = [5]\n",
        "ques2 = Question2(peter,mary)\n",
        "print(ques2.jaccard_similarity())\n",
        "  "
      ],
      "execution_count": 16,
      "outputs": [
        {
          "output_type": "stream",
          "text": [
            "The jaccard similarity between patient_X and Patient_Y is: 0.6\n",
            "None\n"
          ],
          "name": "stdout"
        }
      ]
    },
    {
      "cell_type": "code",
      "metadata": {
        "colab": {
          "base_uri": "https://localhost:8080/"
        },
        "id": "T75scsWr0DEa",
        "outputId": "e1ab97a1-89b0-4adf-a33e-80efe61dbc03"
      },
      "source": [
        "class Question3():\n",
        "\n",
        "  '''\n",
        "  3. (20 points) Given two three-dimensional data points: x1 = (1, 4, 5) and x2 = (3, 7, 8), \n",
        "  Please write a program to calculate the dissimilarity/similarity between the two points by the following measures.\n",
        "  (a) Manhattan distance\n",
        "  (b) Euclidean distance\n",
        "  (c) Cosine similarity\n",
        "\n",
        "\n",
        "  Attributes:\n",
        "\n",
        "  poiny_A : list\n",
        "  point_B : list\n",
        "\n",
        "\n",
        "\n",
        "  Method:\n",
        "\n",
        "  manhattan_distance(point_A, point_B)\n",
        "  prints the manhattan distance between two data points\n",
        "\n",
        "  eucliddean_distance(point_A, point_B)\n",
        "  prints the euclidean distance between two data points\n",
        "\n",
        "\n",
        "  cosine_similarty(point_A, point_B)\n",
        "  prints the cosine similarity between two data points\n",
        "\n",
        "  '''\n",
        "  def __init__(self,point_A, point_B):\n",
        "    self.point_A = point_A\n",
        "    self.point_B = point_B\n",
        "  \n",
        "  def manhattan_distance(self):\n",
        "    return print('The manhattan distance between x1 and x2 is: {}'.format(sum(abs(x-y) for x,y in zip(self.point_A,self.point_B))))\n",
        "\n",
        "  def euclidean_distance(self):\n",
        "    return (\n",
        "    print('The Euclidean distance between x1 and x2 is: {}'\n",
        "    .format(round((sum(pow(x-y,2) for x,y in zip(self.point_A,self.point_B)))**(1/2),2))))\n",
        "  \n",
        "  \n",
        "\n",
        "  def cosine_similarity(self):\n",
        "    sum_of_rootX = round((sum([x*x for x in self.point_A ]))**(1/2), 2)\n",
        "    sum_of_rootY = round((sum([y*y for y in self.point_B ]))**(1/2), 2)\n",
        "\n",
        "    dot_product = sum(a*b for a,b in zip(self.point_A, self.point_B))\n",
        "    magnitude = sum_of_rootX * sum_of_rootY\n",
        "    return  print('The Cosine similarity between data point X1 and X2 is: {}'.format(round(dot_product/ float(magnitude),2)))\n",
        "\n",
        "\n",
        "\n",
        "\n",
        "x1=[1,4,5]\n",
        "x2 = [3,7,8]\n",
        "\n",
        "ques3 = Question3(x1,x2)\n",
        "\n",
        "print(ques3.cosine_similarity())\n",
        "  "
      ],
      "execution_count": 30,
      "outputs": [
        {
          "output_type": "stream",
          "text": [
            "The Cosine similarity between data point X1 and X2 is: 0.99\n",
            "None\n"
          ],
          "name": "stdout"
        }
      ]
    },
    {
      "cell_type": "code",
      "metadata": {
        "colab": {
          "base_uri": "https://localhost:8080/"
        },
        "id": "_vsUaYsZB8Vp",
        "outputId": "7e8e30aa-a8a2-4e13-a322-11086de8d212"
      },
      "source": [
        "class Question4():\n",
        "\n",
        "  '''\n",
        "    4. (20 points) Suppose two stocks A and B have the following values in one week:\n",
        "     (4, 6), (6, 9), (10, 11), (8, 12), (12, 15). \n",
        "      Please write a program to calculate the Pearson’s coefficient between the two stocks.\n",
        "\n",
        "\n",
        "    Attributes:\n",
        "\n",
        "    stock_A : list\n",
        "    stock_B : list\n",
        "\n",
        "\n",
        "\n",
        "    Method:\n",
        "\n",
        "    pearson_co(stock_A, stock_B)\n",
        "    prints the pearson correlational coefficient between two objects\n",
        "\n",
        "\n",
        "  '''\n",
        "  def __init__(self, x, y):\n",
        "    self.x = x\n",
        "    self.y = y \n",
        "\n",
        "\n",
        "  def pearson_co(self):\n",
        "    mean_x= sum(self.x)/len(self.x)\n",
        "    mean_y= sum(self.y)/len(self.y)\n",
        "    ss_x =0\n",
        "    ss_y = 0\n",
        "    sp = 0\n",
        "    for x,y in zip(self.x,self.y):\n",
        "      ss_x += (x-mean_x)**2\n",
        "      ss_y +=(y-mean_y)**2\n",
        "      sp+= (x-mean_x)*(y-mean_y)\n",
        "    corr_coefficient = round(sp/(ss_x**(1/2) * ss_y**(1/2)),2)\n",
        "    return print(\"The Pearson's coeeffient of Stock A and Stock B is: {}\".format(corr_coefficient))\n",
        "\n",
        "stock_A = [4,6,10,8,12]\n",
        "stock_B = [6,9,11,12,15]\n",
        "\n",
        "ques4 = Question4(stock_A, stock_B)\n",
        "\n",
        "print(ques4.pearson_co())"
      ],
      "execution_count": 35,
      "outputs": [
        {
          "output_type": "stream",
          "text": [
            "The Pearson's coeeffient of Stock A and Stock B is: 0.94\n",
            "None\n"
          ],
          "name": "stdout"
        }
      ]
    }
  ]
}